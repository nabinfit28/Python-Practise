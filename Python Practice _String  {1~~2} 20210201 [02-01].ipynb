{
 "cells": [
  {
   "cell_type": "markdown",
   "metadata": {},
   "source": [
    "# Python String Practice"
   ]
  },
  {
   "cell_type": "markdown",
   "metadata": {},
   "source": [
    "# 1. Write a Python program to calculate the lengh of a string."
   ]
  },
  {
   "cell_type": "code",
   "execution_count": 15,
   "metadata": {},
   "outputs": [
    {
     "name": "stdout",
     "output_type": "stream",
     "text": [
      "33\n"
     ]
    }
   ],
   "source": [
    "def string_lenght(text):\n",
    "    count = 0\n",
    "    for nabin in text:\n",
    "        count += 1\n",
    "    return count\n",
    "print(string_lenght(\"Nabin is the Python basic student\"))"
   ]
  },
  {
   "cell_type": "code",
   "execution_count": 62,
   "metadata": {},
   "outputs": [
    {
     "name": "stdout",
     "output_type": "stream",
     "text": [
      "12\n"
     ]
    }
   ],
   "source": [
    "nbn = \"nabin subedi\"\n",
    "def string_count (nbn):\n",
    "    count = 0\n",
    "    for nbna in nbn:\n",
    "        count += 1\n",
    "    return count \n",
    "print(string_lenght(nbn))"
   ]
  },
  {
   "cell_type": "code",
   "execution_count": 64,
   "metadata": {},
   "outputs": [
    {
     "name": "stdout",
     "output_type": "stream",
     "text": [
      "25\n"
     ]
    }
   ],
   "source": [
    "nabin = \"Nabin tasks Python coding\"\n",
    "def str_leng(nabin):\n",
    "    count = 0\n",
    "    for nabina in nabin:\n",
    "        count += 1\n",
    "    return count\n",
    "print(str_leng(nabin))"
   ]
  },
  {
   "cell_type": "code",
   "execution_count": 67,
   "metadata": {},
   "outputs": [
    {
     "name": "stdout",
     "output_type": "stream",
     "text": [
      "16\n"
     ]
    }
   ],
   "source": [
    "nabin = \"Nabin programmer\"\n",
    "def count_length(nabin):\n",
    "    count = 0\n",
    "    for nabina in nabin:\n",
    "        count += 1\n",
    "    return count\n",
    "print(count_length(nabin))"
   ]
  },
  {
   "cell_type": "code",
   "execution_count": 68,
   "metadata": {},
   "outputs": [
    {
     "name": "stdout",
     "output_type": "stream",
     "text": [
      "19\n"
     ]
    }
   ],
   "source": [
    "nabin = \"nabin japan journey\"\n",
    "def count_length(nabin):\n",
    "    count = 0\n",
    "    for nabin in nabin:\n",
    "        count += 1\n",
    "    return count\n",
    "print(count_length(nabin))"
   ]
  },
  {
   "cell_type": "code",
   "execution_count": 73,
   "metadata": {},
   "outputs": [
    {
     "name": "stdout",
     "output_type": "stream",
     "text": [
      "20\n"
     ]
    }
   ],
   "source": [
    "language = \"Python PHP JAVA  C++\"\n",
    "def len_text(language):\n",
    "    count = 0\n",
    "    for nabin in language:\n",
    "        count += 1\n",
    "    return count\n",
    "print(len_text(language))"
   ]
  },
  {
   "cell_type": "code",
   "execution_count": 16,
   "metadata": {},
   "outputs": [
    {
     "name": "stdout",
     "output_type": "stream",
     "text": [
      "33\n"
     ]
    }
   ],
   "source": [
    "print(len(\"Nabin is the Python basic student\"))"
   ]
  },
  {
   "cell_type": "code",
   "execution_count": 86,
   "metadata": {},
   "outputs": [
    {
     "name": "stdout",
     "output_type": "stream",
     "text": [
      "90\n"
     ]
    }
   ],
   "source": [
    "y = \"The main mission of a QubitTech is to provide ways to from the use of quantum technologies\"\n",
    "def sentence_length(y):\n",
    "    count = 0\n",
    "    for o in y:\n",
    "        count += 1\n",
    "    return count\n",
    "print(sentence_length(y))"
   ]
  },
  {
   "cell_type": "code",
   "execution_count": 87,
   "metadata": {},
   "outputs": [
    {
     "name": "stdout",
     "output_type": "stream",
     "text": [
      "37\n"
     ]
    }
   ],
   "source": [
    "nbn = \"python string check coding by my self\"\n",
    "def length_check(nbn):\n",
    "    count = 0\n",
    "    for a in nbn:\n",
    "        count += 1\n",
    "    return count\n",
    "print(length_check(nbn))"
   ]
  },
  {
   "cell_type": "code",
   "execution_count": 88,
   "metadata": {},
   "outputs": [
    {
     "name": "stdout",
     "output_type": "stream",
     "text": [
      "36\n"
     ]
    }
   ],
   "source": [
    "nbn = \"Your python text test length string \"\n",
    "def count_word(nbn):\n",
    "    count = 0\n",
    "    for a in nbn:\n",
    "        count += 1\n",
    "    return count\n",
    "print(count_word(nbn))"
   ]
  },
  {
   "cell_type": "code",
   "execution_count": 89,
   "metadata": {},
   "outputs": [
    {
     "name": "stdout",
     "output_type": "stream",
     "text": [
      "17\n"
     ]
    }
   ],
   "source": [
    "nabin = \"language progress\"\n",
    "def nbn_progress(nabin):\n",
    "    number = 0\n",
    "    for a in nabin:\n",
    "        number += 1\n",
    "    return number\n",
    "print(nbn_progress(nabin))"
   ]
  },
  {
   "cell_type": "code",
   "execution_count": 91,
   "metadata": {},
   "outputs": [
    {
     "name": "stdout",
     "output_type": "stream",
     "text": [
      "97\n"
     ]
    }
   ],
   "source": [
    "write = \"# 2. Write a python program to count the number of characters (character frequency ) in a string \"\n",
    "def progress(write):\n",
    "    number = 0\n",
    "    for a in write:\n",
    "        number += 1\n",
    "    return number \n",
    "print(progress(write))"
   ]
  },
  {
   "cell_type": "markdown",
   "metadata": {},
   "source": [
    "# 2. Write a python program to count the number of characters (character frequency ) in a string "
   ]
  },
  {
   "cell_type": "code",
   "execution_count": 59,
   "metadata": {},
   "outputs": [
    {
     "name": "stdout",
     "output_type": "stream",
     "text": [
      "{'N': 1, 'a': 1, 'b': 1, 'i': 2, 'n': 3, ' ': 4, 's': 2, 't': 4, 'h': 2, 'e': 2, 'p': 1, 'y': 1, 'o': 1, 'u': 1, 'd': 1}\n"
     ]
    }
   ],
   "source": [
    "text = \"Nabin is the python student\"\n",
    "\n",
    "def char_frequ(text):\n",
    "    dict = {}\n",
    "    \n",
    "# The dict() function creates a dictionary.\n",
    "# A dictionary is a collection which is unordered, changeable and indexed.\n",
    "    \n",
    "    for a in text:\n",
    "        keys = dict.keys()\n",
    "        \n",
    "# The methods dict. keys() and dict. values() return lists of the keys or values \n",
    "# explicitly. There's also an items() which returns a list of (key, value) tuples, \n",
    "# which is the most efficient way to examine all the key value data in the dictionary.\n",
    "\n",
    "        if a in keys:\n",
    "            dict[a] += 1\n",
    "        else:\n",
    "            dict[a] = 1\n",
    "    return dict\n",
    "print(char_frequ(text))"
   ]
  },
  {
   "cell_type": "code",
   "execution_count": 3,
   "metadata": {},
   "outputs": [
    {
     "name": "stdout",
     "output_type": "stream",
     "text": [
      "{'N': 1, 'a': 2, 'b': 1, 'i': 2, 'n': 3, ' ': 2, 'd': 1, 'm': 1, 's': 2, 'o': 1}\n"
     ]
    }
   ],
   "source": [
    "text = \"Nabin and misson\"\n",
    "\n",
    "def char_frequ(text):\n",
    "    dict = {}\n",
    "    \n",
    "    for a in text:\n",
    "        keys = dict.keys()\n",
    "        \n",
    "        if a in keys:\n",
    "            dict[a] += 1\n",
    "        else:\n",
    "            dict[a] = 1\n",
    "    return dict\n",
    "print(char_frequ(text))"
   ]
  },
  {
   "cell_type": "code",
   "execution_count": 4,
   "metadata": {},
   "outputs": [
    {
     "name": "stdout",
     "output_type": "stream",
     "text": [
      "{' ': 6, 'P': 1, 'y': 1, 't': 1, 'h': 1, 'o': 2, 'n': 4, 'i': 3, 's': 1, 'a': 6, 'm': 3, 'z': 1, 'g': 5, 'p': 1, 'r': 2, 'l': 1, 'u': 1, 'e': 1}\n"
     ]
    }
   ],
   "source": [
    "text = \" Python is a amazing programming language\"\n",
    "\n",
    "def repeat_letter(text):\n",
    "    dict = {}\n",
    "    \n",
    "    for a in text:\n",
    "        keys = dict.keys()\n",
    "        \n",
    "        if a in keys:\n",
    "            dict[a] += 1\n",
    "        else:\n",
    "            dict[a] =1\n",
    "    return dict\n",
    "print(repeat_letter(text))"
   ]
  },
  {
   "cell_type": "code",
   "execution_count": 18,
   "metadata": {},
   "outputs": [
    {
     "name": "stdout",
     "output_type": "stream",
     "text": [
      "{'n': 2, 'a': 2, 'b': 1, 'i': 1}\n"
     ]
    }
   ],
   "source": [
    "def repeat_check(aq):\n",
    "    dict = {}\n",
    "    \n",
    "    for x in (aq):\n",
    "        keys = dict.keys()\n",
    "        if x in keys:\n",
    "            dict [x] += 1\n",
    "        else:\n",
    "            dict[x] = 1\n",
    "    return dict\n",
    "print(repeat_check(\"nabina\"))"
   ]
  },
  {
   "cell_type": "code",
   "execution_count": 25,
   "metadata": {},
   "outputs": [
    {
     "name": "stdout",
     "output_type": "stream",
     "text": [
      "{'Y': 1, 'e': 1, 's': 1, ' ': 4, 'y': 1, 'o': 1, 'u': 1, 'c': 1, 'a': 1, 'n': 2, 'w': 1, 'i': 1}\n"
     ]
    }
   ],
   "source": [
    "def nbn_check(yu):\n",
    "    dict = {}\n",
    "    \n",
    "    for x in (yu):\n",
    "        keys = dict.keys()\n",
    "        if x in keys:\n",
    "            dict [x] += 1\n",
    "        else:\n",
    "            dict[x] = 1\n",
    "            \n",
    "    return dict\n",
    "print(nbn_check(\"Yes you can win \"))"
   ]
  },
  {
   "cell_type": "code",
   "execution_count": 31,
   "metadata": {},
   "outputs": [
    {
     "name": "stdout",
     "output_type": "stream",
     "text": [
      "{'a': 7, ' ': 14, '+': 2, '=': 2, 'b': 2, 'i': 2, 's': 5, 'e': 6, 'n': 1, 't': 5, 'l': 2, 'y': 1, 'h': 2, 'm': 1, ',': 1, 'x': 1, 'c': 1, 'p': 1, ':': 1}\n"
     ]
    }
   ],
   "source": [
    "def nbn_count_check(nbn):\n",
    "    dict = {}\n",
    "    \n",
    "    for x in nbn:\n",
    "        keys = dict.keys()\n",
    "        if x in keys:\n",
    "            dict[x] += 1\n",
    "        else:\n",
    "            dict[x] = 1\n",
    "    \n",
    "    return dict\n",
    "print(nbn_count_check(\"a += b is essentially the same as a = a + b, except that:\"))"
   ]
  },
  {
   "cell_type": "code",
   "execution_count": 34,
   "metadata": {},
   "outputs": [
    {
     "name": "stdout",
     "output_type": "stream",
     "text": [
      "{'C': 1, 'h': 1, 'e': 5, 'c': 1, 'k': 1, ' ': 3, 'y': 1, 'o': 1, 'u': 1, 'r': 3, 'l': 1, 't': 3, 'p': 1, 'a': 1}\n"
     ]
    }
   ],
   "source": [
    "nbn = \"Check your letter repeat\"\n",
    "\n",
    "def nbn_repeat_check(nbn):\n",
    "    dict = {}\n",
    "    \n",
    "    for a in nbn:\n",
    "        keys = dict.keys()\n",
    "        if a in keys:\n",
    "            dict[a] += 1\n",
    "            \n",
    "        else:\n",
    "            dict[a] = 1\n",
    "    return dict\n",
    "print(nbn_repeat_check(nbn))\n",
    "\n"
   ]
  },
  {
   "cell_type": "code",
   "execution_count": 49,
   "metadata": {},
   "outputs": [
    {
     "name": "stdout",
     "output_type": "stream",
     "text": [
      "{'C': 1, 'h': 1, 'e': 5, 'c': 1, 'k': 1, ' ': 3, 'y': 1, 'o': 1, 'u': 1, 'r': 3, 'l': 1, 't': 3, 'p': 1, 'a': 1}\n"
     ]
    }
   ],
   "source": [
    "check = \"repeated letter\"\n",
    "\n",
    "def nbn_repeat(n):\n",
    "    dict = {}\n",
    "    \n",
    "    for a in n:\n",
    "        keys = dict.keys()\n",
    "        if a in keys:\n",
    "            dict[a] += 1\n",
    "            \n",
    "        else:\n",
    "            dict[a] = 1\n",
    "    return dict\n",
    "print(nbn_check(nbn))\n",
    "            "
   ]
  },
  {
   "cell_type": "code",
   "execution_count": 46,
   "metadata": {},
   "outputs": [
    {
     "name": "stdout",
     "output_type": "stream",
     "text": [
      "{'c': 3, 'h': 1, 'e': 1, 'k': 1, 'i': 2, 'n': 2, 'g': 2, ' ': 1, 'o': 1, 'd': 1}\n"
     ]
    }
   ],
   "source": [
    "test = \"checking coding\"\n",
    "\n",
    "def nbn_check(an):\n",
    "    dict = {}\n",
    "    \n",
    "    for a in an:\n",
    "        keys = dict.keys()\n",
    "        if a in keys:\n",
    "            dict[a] += 1\n",
    "        else:\n",
    "            dict[a] =1\n",
    "        \n",
    "    return dict\n",
    "print(nbn_check(test))"
   ]
  },
  {
   "cell_type": "code",
   "execution_count": 57,
   "metadata": {},
   "outputs": [
    {
     "name": "stdout",
     "output_type": "stream",
     "text": [
      "{'f': 1, 'i': 1, 'n': 1, 'a': 1, 'l': 1, ' ': 2, 'c': 2, 'h': 1, 'e': 1, 'k': 1}\n"
     ]
    }
   ],
   "source": [
    "test = \"final check \"\n",
    "def final_check(test):\n",
    "    dict = {}\n",
    "    for a in test:\n",
    "        keys = dict.keys()\n",
    "        if a in keys:\n",
    "            dict[a] += 1\n",
    "        else:\n",
    "            dict[a] = 1\n",
    "    return dict\n",
    "print(final_check(test))"
   ]
  },
  {
   "cell_type": "raw",
   "metadata": {},
   "source": [
    "# += adds a number to a variable, changing the variable itself in the process (whereas + would not). Similar to this, there are the following that also modifies the variable: -= , subtracts a value from variable, setting the variable to the result. *= , multiplies the variable and a value, making the outcome the variable.\n",
    "\n",
    "\n",
    "\n",
    "a += b is essentially the same as a = a + b, except that:\n",
    "\n",
    "+ always returns a newly allocated object, but += should (but doesn't have to) modify the object in-place if it's mutable (e.g. list or dict, but int and str are immutable).\n",
    "\n",
    "In a = a + b, a is evaluated twice.\n"
   ]
  }
 ],
 "metadata": {
  "kernelspec": {
   "display_name": "Python 3",
   "language": "python",
   "name": "python3"
  },
  "language_info": {
   "codemirror_mode": {
    "name": "ipython",
    "version": 3
   },
   "file_extension": ".py",
   "mimetype": "text/x-python",
   "name": "python",
   "nbconvert_exporter": "python",
   "pygments_lexer": "ipython3",
   "version": "3.8.5"
  }
 },
 "nbformat": 4,
 "nbformat_minor": 4
}
