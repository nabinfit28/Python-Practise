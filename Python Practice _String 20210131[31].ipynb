{
 "cells": [
  {
   "cell_type": "markdown",
   "metadata": {},
   "source": [
    "# Python String Practice"
   ]
  },
  {
   "cell_type": "markdown",
   "metadata": {},
   "source": [
    "# 1. Write a Python program to calculate the lengh of a string."
   ]
  },
  {
   "cell_type": "code",
   "execution_count": 15,
   "metadata": {},
   "outputs": [
    {
     "name": "stdout",
     "output_type": "stream",
     "text": [
      "33\n"
     ]
    }
   ],
   "source": [
    "def string_lenght(text):\n",
    "    count = 0\n",
    "    for nabin in text:\n",
    "        count += 1\n",
    "    return count\n",
    "print(string_lenght(\"Nabin is the Python basic student\"))"
   ]
  },
  {
   "cell_type": "code",
   "execution_count": 62,
   "metadata": {},
   "outputs": [
    {
     "name": "stdout",
     "output_type": "stream",
     "text": [
      "12\n"
     ]
    }
   ],
   "source": [
    "nbn = \"nabin subedi\"\n",
    "def string_count (nbn):\n",
    "    count = 0\n",
    "    for nbna in nbn:\n",
    "        count += 1\n",
    "    return count \n",
    "print(string_lenght(nbn))"
   ]
  },
  {
   "cell_type": "code",
   "execution_count": 64,
   "metadata": {},
   "outputs": [
    {
     "name": "stdout",
     "output_type": "stream",
     "text": [
      "25\n"
     ]
    }
   ],
   "source": [
    "nabin = \"Nabin tasks Python coding\"\n",
    "def str_leng(nabin):\n",
    "    count = 0\n",
    "    for nabina in nabin:\n",
    "        count += 1\n",
    "    return count\n",
    "print(str_leng(nabin))"
   ]
  },
  {
   "cell_type": "code",
   "execution_count": 67,
   "metadata": {},
   "outputs": [
    {
     "name": "stdout",
     "output_type": "stream",
     "text": [
      "16\n"
     ]
    }
   ],
   "source": [
    "nabin = \"Nabin programmer\"\n",
    "def count_length(nabin):\n",
    "    count = 0\n",
    "    for nabina in nabin:\n",
    "        count += 1\n",
    "    return count\n",
    "print(count_length(nabin))"
   ]
  },
  {
   "cell_type": "code",
   "execution_count": 68,
   "metadata": {},
   "outputs": [
    {
     "name": "stdout",
     "output_type": "stream",
     "text": [
      "19\n"
     ]
    }
   ],
   "source": [
    "nabin = \"nabin japan journey\"\n",
    "def count_length(nabin):\n",
    "    count = 0\n",
    "    for nabin in nabin:\n",
    "        count += 1\n",
    "    return count\n",
    "print(count_length(nabin))"
   ]
  },
  {
   "cell_type": "code",
   "execution_count": 73,
   "metadata": {},
   "outputs": [
    {
     "name": "stdout",
     "output_type": "stream",
     "text": [
      "20\n"
     ]
    }
   ],
   "source": [
    "language = \"Python PHP JAVA  C++\"\n",
    "def len_text(language):\n",
    "    count = 0\n",
    "    for nabin in language:\n",
    "        count += 1\n",
    "    return count\n",
    "print(len_text(language))"
   ]
  },
  {
   "cell_type": "code",
   "execution_count": 16,
   "metadata": {},
   "outputs": [
    {
     "name": "stdout",
     "output_type": "stream",
     "text": [
      "33\n"
     ]
    }
   ],
   "source": [
    "print(len(\"Nabin is the Python basic student\"))"
   ]
  },
  {
   "cell_type": "code",
   "execution_count": 86,
   "metadata": {},
   "outputs": [
    {
     "name": "stdout",
     "output_type": "stream",
     "text": [
      "90\n"
     ]
    }
   ],
   "source": [
    "y = \"The main mission of a QubitTech is to provide ways to from the use of quantum technologies\"\n",
    "def sentence_length(y):\n",
    "    count = 0\n",
    "    for o in y:\n",
    "        count += 1\n",
    "    return count\n",
    "print(sentence_length(y))"
   ]
  },
  {
   "cell_type": "code",
   "execution_count": 87,
   "metadata": {},
   "outputs": [
    {
     "name": "stdout",
     "output_type": "stream",
     "text": [
      "37\n"
     ]
    }
   ],
   "source": [
    "nbn = \"python string check coding by my self\"\n",
    "def length_check(nbn):\n",
    "    count = 0\n",
    "    for a in nbn:\n",
    "        count += 1\n",
    "    return count\n",
    "print(length_check(nbn))"
   ]
  },
  {
   "cell_type": "code",
   "execution_count": 88,
   "metadata": {},
   "outputs": [
    {
     "name": "stdout",
     "output_type": "stream",
     "text": [
      "36\n"
     ]
    }
   ],
   "source": [
    "nbn = \"Your python text test length string \"\n",
    "def count_word(nbn):\n",
    "    count = 0\n",
    "    for a in nbn:\n",
    "        count += 1\n",
    "    return count\n",
    "print(count_word(nbn))"
   ]
  },
  {
   "cell_type": "code",
   "execution_count": 89,
   "metadata": {},
   "outputs": [
    {
     "name": "stdout",
     "output_type": "stream",
     "text": [
      "17\n"
     ]
    }
   ],
   "source": [
    "nabin = \"language progress\"\n",
    "def nbn_progress(nabin):\n",
    "    number = 0\n",
    "    for a in nabin:\n",
    "        number += 1\n",
    "    return number\n",
    "print(nbn_progress(nabin))"
   ]
  },
  {
   "cell_type": "code",
   "execution_count": 91,
   "metadata": {},
   "outputs": [
    {
     "name": "stdout",
     "output_type": "stream",
     "text": [
      "97\n"
     ]
    }
   ],
   "source": [
    "write = \"# 2. Write a python program to count the number of characters (character frequency ) in a string \"\n",
    "def progress(write):\n",
    "    number = 0\n",
    "    for a in write:\n",
    "        number += 1\n",
    "    return number \n",
    "print(progress(write))"
   ]
  },
  {
   "cell_type": "markdown",
   "metadata": {},
   "source": [
    "# 2. Write a python program to count the number of characters (character frequency ) in a string "
   ]
  },
  {
   "cell_type": "code",
   "execution_count": 59,
   "metadata": {},
   "outputs": [
    {
     "name": "stdout",
     "output_type": "stream",
     "text": [
      "{'N': 1, 'a': 1, 'b': 1, 'i': 2, 'n': 3, ' ': 4, 's': 2, 't': 4, 'h': 2, 'e': 2, 'p': 1, 'y': 1, 'o': 1, 'u': 1, 'd': 1}\n"
     ]
    }
   ],
   "source": [
    "text = \"Nabin is the python student\"\n",
    "\n",
    "def char_frequ(text):\n",
    "    dict = {}\n",
    "    \n",
    "# The dict() function creates a dictionary.\n",
    "# A dictionary is a collection which is unordered, changeable and indexed.\n",
    "    \n",
    "    for a in text:\n",
    "        keys = dict.keys()\n",
    "        \n",
    "# The methods dict. keys() and dict. values() return lists of the keys or values \n",
    "# explicitly. There's also an items() which returns a list of (key, value) tuples, \n",
    "# which is the most efficient way to examine all the key value data in the dictionary.\n",
    "\n",
    "        if a in keys:\n",
    "            dict[a] += 1\n",
    "        else:\n",
    "            dict[a] = 1\n",
    "    return dict\n",
    "print(char_frequ(text))"
   ]
  },
  {
   "cell_type": "markdown",
   "metadata": {},
   "source": [
    "# 3 Write a Python program to get a string made of the irst 2 and the last 2 chars from a given a string . If the string length is less than 2, return instead fo the empty string."
   ]
  },
  {
   "cell_type": "code",
   "execution_count": null,
   "metadata": {},
   "outputs": [],
   "source": []
  }
 ],
 "metadata": {
  "kernelspec": {
   "display_name": "Python 3",
   "language": "python",
   "name": "python3"
  },
  "language_info": {
   "codemirror_mode": {
    "name": "ipython",
    "version": 3
   },
   "file_extension": ".py",
   "mimetype": "text/x-python",
   "name": "python",
   "nbconvert_exporter": "python",
   "pygments_lexer": "ipython3",
   "version": "3.8.5"
  }
 },
 "nbformat": 4,
 "nbformat_minor": 4
}
