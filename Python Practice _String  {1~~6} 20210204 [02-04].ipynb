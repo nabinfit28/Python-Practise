{
 "cells": [
  {
   "cell_type": "markdown",
   "metadata": {},
   "source": [
    "# Python String Practice"
   ]
  },
  {
   "cell_type": "markdown",
   "metadata": {},
   "source": [
    "# 1. Write a Python program to calculate the lengh of a string."
   ]
  },
  {
   "cell_type": "code",
   "execution_count": 15,
   "metadata": {},
   "outputs": [
    {
     "name": "stdout",
     "output_type": "stream",
     "text": [
      "33\n"
     ]
    }
   ],
   "source": [
    "def string_lenght(text):\n",
    "    count = 0\n",
    "    for nabin in text:\n",
    "        count += 1\n",
    "    return count\n",
    "print(string_lenght(\"Nabin is the Python basic student\"))"
   ]
  },
  {
   "cell_type": "code",
   "execution_count": 62,
   "metadata": {},
   "outputs": [
    {
     "name": "stdout",
     "output_type": "stream",
     "text": [
      "12\n"
     ]
    }
   ],
   "source": [
    "nbn = \"nabin subedi\"\n",
    "def string_count (nbn):\n",
    "    count = 0\n",
    "    for nbna in nbn:\n",
    "        count += 1\n",
    "    return count \n",
    "print(string_lenght(nbn))"
   ]
  },
  {
   "cell_type": "code",
   "execution_count": 64,
   "metadata": {},
   "outputs": [
    {
     "name": "stdout",
     "output_type": "stream",
     "text": [
      "25\n"
     ]
    }
   ],
   "source": [
    "nabin = \"Nabin tasks Python coding\"\n",
    "def str_leng(nabin):\n",
    "    count = 0\n",
    "    for nabina in nabin:\n",
    "        count += 1\n",
    "    return count\n",
    "print(str_leng(nabin))"
   ]
  },
  {
   "cell_type": "code",
   "execution_count": 67,
   "metadata": {},
   "outputs": [
    {
     "name": "stdout",
     "output_type": "stream",
     "text": [
      "16\n"
     ]
    }
   ],
   "source": [
    "nabin = \"Nabin programmer\"\n",
    "def count_length(nabin):\n",
    "    count = 0\n",
    "    for nabina in nabin:\n",
    "        count += 1\n",
    "    return count\n",
    "print(count_length(nabin))"
   ]
  },
  {
   "cell_type": "code",
   "execution_count": 68,
   "metadata": {},
   "outputs": [
    {
     "name": "stdout",
     "output_type": "stream",
     "text": [
      "19\n"
     ]
    }
   ],
   "source": [
    "nabin = \"nabin japan journey\"\n",
    "def count_length(nabin):\n",
    "    count = 0\n",
    "    for nabin in nabin:\n",
    "        count += 1\n",
    "    return count\n",
    "print(count_length(nabin))"
   ]
  },
  {
   "cell_type": "code",
   "execution_count": 73,
   "metadata": {},
   "outputs": [
    {
     "name": "stdout",
     "output_type": "stream",
     "text": [
      "20\n"
     ]
    }
   ],
   "source": [
    "language = \"Python PHP JAVA  C++\"\n",
    "def len_text(language):\n",
    "    count = 0\n",
    "    for nabin in language:\n",
    "        count += 1\n",
    "    return count\n",
    "print(len_text(language))"
   ]
  },
  {
   "cell_type": "code",
   "execution_count": 16,
   "metadata": {},
   "outputs": [
    {
     "name": "stdout",
     "output_type": "stream",
     "text": [
      "33\n"
     ]
    }
   ],
   "source": [
    "print(len(\"Nabin is the Python basic student\"))"
   ]
  },
  {
   "cell_type": "code",
   "execution_count": 86,
   "metadata": {},
   "outputs": [
    {
     "name": "stdout",
     "output_type": "stream",
     "text": [
      "90\n"
     ]
    }
   ],
   "source": [
    "y = \"The main mission of a QubitTech is to provide ways to from the use of quantum technologies\"\n",
    "def sentence_length(y):\n",
    "    count = 0\n",
    "    for o in y:\n",
    "        count += 1\n",
    "    return count\n",
    "print(sentence_length(y))"
   ]
  },
  {
   "cell_type": "code",
   "execution_count": 87,
   "metadata": {},
   "outputs": [
    {
     "name": "stdout",
     "output_type": "stream",
     "text": [
      "37\n"
     ]
    }
   ],
   "source": [
    "nbn = \"python string check coding by my self\"\n",
    "def length_check(nbn):\n",
    "    count = 0\n",
    "    for a in nbn:\n",
    "        count += 1\n",
    "    return count\n",
    "print(length_check(nbn))"
   ]
  },
  {
   "cell_type": "code",
   "execution_count": 88,
   "metadata": {},
   "outputs": [
    {
     "name": "stdout",
     "output_type": "stream",
     "text": [
      "36\n"
     ]
    }
   ],
   "source": [
    "nbn = \"Your python text test length string \"\n",
    "def count_word(nbn):\n",
    "    count = 0\n",
    "    for a in nbn:\n",
    "        count += 1\n",
    "    return count\n",
    "print(count_word(nbn))"
   ]
  },
  {
   "cell_type": "code",
   "execution_count": 89,
   "metadata": {},
   "outputs": [
    {
     "name": "stdout",
     "output_type": "stream",
     "text": [
      "17\n"
     ]
    }
   ],
   "source": [
    "nabin = \"language progress\"\n",
    "def nbn_progress(nabin):\n",
    "    number = 0\n",
    "    for a in nabin:\n",
    "        number += 1\n",
    "    return number\n",
    "print(nbn_progress(nabin))"
   ]
  },
  {
   "cell_type": "code",
   "execution_count": 91,
   "metadata": {},
   "outputs": [
    {
     "name": "stdout",
     "output_type": "stream",
     "text": [
      "97\n"
     ]
    }
   ],
   "source": [
    "write = \"# 2. Write a python program to count the number of characters (character frequency ) in a string \"\n",
    "def progress(write):\n",
    "    number = 0\n",
    "    for a in write:\n",
    "        number += 1\n",
    "    return number \n",
    "print(progress(write))"
   ]
  },
  {
   "cell_type": "markdown",
   "metadata": {},
   "source": [
    "# 2. Write a python program to count the number of characters (character frequency ) in a string "
   ]
  },
  {
   "cell_type": "code",
   "execution_count": 59,
   "metadata": {},
   "outputs": [
    {
     "name": "stdout",
     "output_type": "stream",
     "text": [
      "{'N': 1, 'a': 1, 'b': 1, 'i': 2, 'n': 3, ' ': 4, 's': 2, 't': 4, 'h': 2, 'e': 2, 'p': 1, 'y': 1, 'o': 1, 'u': 1, 'd': 1}\n"
     ]
    }
   ],
   "source": [
    "text = \"Nabin is the python student\"\n",
    "\n",
    "def char_frequ(text):\n",
    "    dict = {}\n",
    "    \n",
    "# The dict() function creates a dictionary.\n",
    "# A dictionary is a collection which is unordered, changeable and indexed.\n",
    "    \n",
    "    for a in text:\n",
    "        keys = dict.keys()\n",
    "        \n",
    "# The methods dict. keys() and dict. values() return lists of the keys or values \n",
    "# explicitly. There's also an items() which returns a list of (key, value) tuples, \n",
    "# which is the most efficient way to examine all the key value data in the dictionary.\n",
    "\n",
    "        if a in keys:\n",
    "            dict[a] += 1\n",
    "        else:\n",
    "            dict[a] = 1\n",
    "    return dict\n",
    "print(char_frequ(text))"
   ]
  },
  {
   "cell_type": "code",
   "execution_count": 3,
   "metadata": {},
   "outputs": [
    {
     "name": "stdout",
     "output_type": "stream",
     "text": [
      "{'N': 1, 'a': 2, 'b': 1, 'i': 2, 'n': 3, ' ': 2, 'd': 1, 'm': 1, 's': 2, 'o': 1}\n"
     ]
    }
   ],
   "source": [
    "text = \"Nabin and misson\"\n",
    "\n",
    "def char_frequ(text):\n",
    "    dict = {}\n",
    "    \n",
    "    for a in text:\n",
    "        keys = dict.keys()\n",
    "        \n",
    "        if a in keys:\n",
    "            dict[a] += 1\n",
    "        else:\n",
    "            dict[a] = 1\n",
    "    return dict\n",
    "print(char_frequ(text))"
   ]
  },
  {
   "cell_type": "code",
   "execution_count": 4,
   "metadata": {},
   "outputs": [
    {
     "name": "stdout",
     "output_type": "stream",
     "text": [
      "{' ': 6, 'P': 1, 'y': 1, 't': 1, 'h': 1, 'o': 2, 'n': 4, 'i': 3, 's': 1, 'a': 6, 'm': 3, 'z': 1, 'g': 5, 'p': 1, 'r': 2, 'l': 1, 'u': 1, 'e': 1}\n"
     ]
    }
   ],
   "source": [
    "text = \" Python is a amazing programming language\"\n",
    "\n",
    "def repeat_letter(text):\n",
    "    dict = {}\n",
    "    \n",
    "    for a in text:\n",
    "        keys = dict.keys()\n",
    "        \n",
    "        if a in keys:\n",
    "            dict[a] += 1\n",
    "        else:\n",
    "            dict[a] =1\n",
    "    return dict\n",
    "print(repeat_letter(text))"
   ]
  },
  {
   "cell_type": "code",
   "execution_count": 18,
   "metadata": {},
   "outputs": [
    {
     "name": "stdout",
     "output_type": "stream",
     "text": [
      "{'n': 2, 'a': 2, 'b': 1, 'i': 1}\n"
     ]
    }
   ],
   "source": [
    "def repeat_check(aq):\n",
    "    dict = {}\n",
    "    \n",
    "    for x in (aq):\n",
    "        keys = dict.keys()\n",
    "        if x in keys:\n",
    "            dict [x] += 1\n",
    "        else:\n",
    "            dict[x] = 1\n",
    "    return dict\n",
    "print(repeat_check(\"nabina\"))"
   ]
  },
  {
   "cell_type": "code",
   "execution_count": 25,
   "metadata": {},
   "outputs": [
    {
     "name": "stdout",
     "output_type": "stream",
     "text": [
      "{'Y': 1, 'e': 1, 's': 1, ' ': 4, 'y': 1, 'o': 1, 'u': 1, 'c': 1, 'a': 1, 'n': 2, 'w': 1, 'i': 1}\n"
     ]
    }
   ],
   "source": [
    "def nbn_check(yu):\n",
    "    dict = {}\n",
    "    \n",
    "    for x in (yu):\n",
    "        keys = dict.keys()\n",
    "        if x in keys:\n",
    "            dict [x] += 1\n",
    "        else:\n",
    "            dict[x] = 1\n",
    "            \n",
    "    return dict\n",
    "print(nbn_check(\"Yes you can win \"))"
   ]
  },
  {
   "cell_type": "code",
   "execution_count": 31,
   "metadata": {},
   "outputs": [
    {
     "name": "stdout",
     "output_type": "stream",
     "text": [
      "{'a': 7, ' ': 14, '+': 2, '=': 2, 'b': 2, 'i': 2, 's': 5, 'e': 6, 'n': 1, 't': 5, 'l': 2, 'y': 1, 'h': 2, 'm': 1, ',': 1, 'x': 1, 'c': 1, 'p': 1, ':': 1}\n"
     ]
    }
   ],
   "source": [
    "def nbn_count_check(nbn):\n",
    "    dict = {}\n",
    "    \n",
    "    for x in nbn:\n",
    "        keys = dict.keys()\n",
    "        if x in keys:\n",
    "            dict[x] += 1\n",
    "        else:\n",
    "            dict[x] = 1\n",
    "    \n",
    "    return dict\n",
    "print(nbn_count_check(\"a += b is essentially the same as a = a + b, except that:\"))"
   ]
  },
  {
   "cell_type": "code",
   "execution_count": 34,
   "metadata": {},
   "outputs": [
    {
     "name": "stdout",
     "output_type": "stream",
     "text": [
      "{'C': 1, 'h': 1, 'e': 5, 'c': 1, 'k': 1, ' ': 3, 'y': 1, 'o': 1, 'u': 1, 'r': 3, 'l': 1, 't': 3, 'p': 1, 'a': 1}\n"
     ]
    }
   ],
   "source": [
    "nbn = \"Check your letter repeat\"\n",
    "\n",
    "def nbn_repeat_check(nbn):\n",
    "    dict = {}\n",
    "    \n",
    "    for a in nbn:\n",
    "        keys = dict.keys()\n",
    "        if a in keys:\n",
    "            dict[a] += 1\n",
    "            \n",
    "        else:\n",
    "            dict[a] = 1\n",
    "    return dict\n",
    "print(nbn_repeat_check(nbn))\n",
    "\n"
   ]
  },
  {
   "cell_type": "code",
   "execution_count": 49,
   "metadata": {},
   "outputs": [
    {
     "name": "stdout",
     "output_type": "stream",
     "text": [
      "{'C': 1, 'h': 1, 'e': 5, 'c': 1, 'k': 1, ' ': 3, 'y': 1, 'o': 1, 'u': 1, 'r': 3, 'l': 1, 't': 3, 'p': 1, 'a': 1}\n"
     ]
    }
   ],
   "source": [
    "check = \"repeated letter\"\n",
    "\n",
    "def nbn_repeat(n):\n",
    "    dict = {}\n",
    "    \n",
    "    for a in n:\n",
    "        keys = dict.keys()\n",
    "        if a in keys:\n",
    "            dict[a] += 1\n",
    "            \n",
    "        else:\n",
    "            dict[a] = 1\n",
    "    return dict\n",
    "print(nbn_check(nbn))\n",
    "            "
   ]
  },
  {
   "cell_type": "code",
   "execution_count": 46,
   "metadata": {},
   "outputs": [
    {
     "name": "stdout",
     "output_type": "stream",
     "text": [
      "{'c': 3, 'h': 1, 'e': 1, 'k': 1, 'i': 2, 'n': 2, 'g': 2, ' ': 1, 'o': 1, 'd': 1}\n"
     ]
    }
   ],
   "source": [
    "test = \"checking coding\"\n",
    "\n",
    "def nbn_check(an):\n",
    "    dict = {}\n",
    "    \n",
    "    for a in an:\n",
    "        keys = dict.keys()\n",
    "        if a in keys:\n",
    "            dict[a] += 1\n",
    "        else:\n",
    "            dict[a] =1\n",
    "        \n",
    "    return dict\n",
    "print(nbn_check(test))"
   ]
  },
  {
   "cell_type": "code",
   "execution_count": 57,
   "metadata": {},
   "outputs": [
    {
     "name": "stdout",
     "output_type": "stream",
     "text": [
      "{'f': 1, 'i': 1, 'n': 1, 'a': 1, 'l': 1, ' ': 2, 'c': 2, 'h': 1, 'e': 1, 'k': 1}\n"
     ]
    }
   ],
   "source": [
    "test = \"final check \"\n",
    "def final_check(test):\n",
    "    dict = {}\n",
    "    for a in test:\n",
    "        keys = dict.keys()\n",
    "        if a in keys:\n",
    "            dict[a] += 1\n",
    "        else:\n",
    "            dict[a] = 1\n",
    "    return dict\n",
    "print(final_check(test))"
   ]
  },
  {
   "cell_type": "raw",
   "metadata": {},
   "source": [
    "# += adds a number to a variable, changing the variable itself in the process (whereas + would not). Similar to this, there are the following that also modifies the variable: -= , subtracts a value from variable, setting the variable to the result. *= , multiplies the variable and a value, making the outcome the variable.\n",
    "\n",
    "\n",
    "\n",
    "a += b is essentially the same as a = a + b, except that:\n",
    "\n",
    "+ always returns a newly allocated object, but += should (but doesn't have to) modify the object in-place if it's mutable (e.g. list or dict, but int and str are immutable).\n",
    "\n",
    "In a = a + b, a is evaluated twice.\n"
   ]
  },
  {
   "cell_type": "markdown",
   "metadata": {},
   "source": [
    "# 3. Write a python program to get a string made of the first 2 and the least 2 chars from a given string. If the string lenggth is less than 2 , return instead of the empty string."
   ]
  },
  {
   "cell_type": "code",
   "execution_count": 2,
   "metadata": {},
   "outputs": [
    {
     "name": "stdout",
     "output_type": "stream",
     "text": [
      "prn\n",
      "PHH\n",
      "\n"
     ]
    }
   ],
   "source": [
    "def check_string(str):\n",
    "    if len(str) <  2:\n",
    "        return \"\"\n",
    "    \n",
    "    return str[0:2] + str[-2]\n",
    "\n",
    "print (check_string(\"programming\"))\n",
    "print(check_string(\"PHP\"))\n",
    "print(check_string(\"c\"))"
   ]
  },
  {
   "cell_type": "code",
   "execution_count": 9,
   "metadata": {},
   "outputs": [
    {
     "name": "stdout",
     "output_type": "stream",
     "text": [
      "Nai\n"
     ]
    }
   ],
   "source": [
    "def check_str(str):\n",
    "    if len(str) < 2:\n",
    "        return \"\"\n",
    "    \n",
    "    return str[0:2] + str[-2]\n",
    "print(check_str(\"Nabin\"))"
   ]
  },
  {
   "cell_type": "code",
   "execution_count": 9,
   "metadata": {},
   "outputs": [
    {
     "name": "stdout",
     "output_type": "stream",
     "text": [
      "Na\n"
     ]
    }
   ],
   "source": [
    "def check_string(str):\n",
    "    if len(str) < 2:\n",
    "        return\"\"\n",
    "    return str[0:2]\n",
    "\n",
    "print(check_string(\"Na\"))"
   ]
  },
  {
   "cell_type": "code",
   "execution_count": 18,
   "metadata": {},
   "outputs": [
    {
     "name": "stdout",
     "output_type": "stream",
     "text": [
      "Na.\n"
     ]
    }
   ],
   "source": [
    "def check_string(str):\n",
    "    if len(str) < 2:\n",
    "        return\"\"\n",
    "    return str[0:2] + str[-7]\n",
    "\n",
    "print(check_string(\"Nabin..subedi\"))"
   ]
  },
  {
   "cell_type": "code",
   "execution_count": 23,
   "metadata": {},
   "outputs": [
    {
     "name": "stdout",
     "output_type": "stream",
     "text": [
      "nalgo l\n",
      "nabinan\n",
      "aoa\n"
     ]
    }
   ],
   "source": [
    "def check_nbn(str):\n",
    "    if len(str) < 2 :\n",
    "        return\"\"\n",
    "    \n",
    "    return str[0:6] + str[-2]\n",
    "\n",
    "print(check_nbn(\"nalgo yello\"))\n",
    "print(check_nbn(\"nabina\"))\n",
    "print(check_nbn(\"ao\"))"
   ]
  },
  {
   "cell_type": "code",
   "execution_count": 24,
   "metadata": {},
   "outputs": [
    {
     "name": "stdout",
     "output_type": "stream",
     "text": [
      "a\n"
     ]
    }
   ],
   "source": [
    "def string_check(str):\n",
    "    if len(str) < 2 :\n",
    "        return\"\"\n",
    "    return str[-4] \n",
    "print(string_check(\"nabin\"))"
   ]
  },
  {
   "cell_type": "code",
   "execution_count": 29,
   "metadata": {},
   "outputs": [
    {
     "name": "stdout",
     "output_type": "stream",
     "text": [
      "N\n"
     ]
    }
   ],
   "source": [
    "def string_check(str):\n",
    "    if len(str) < 3:\n",
    "        return\"\"\n",
    "    return str[-5]\n",
    "print(string_check(\"Nabin\"))"
   ]
  },
  {
   "cell_type": "code",
   "execution_count": 34,
   "metadata": {},
   "outputs": [
    {
     "name": "stdout",
     "output_type": "stream",
     "text": [
      "b\n"
     ]
    }
   ],
   "source": [
    "def string_check(str):\n",
    "    if len(str) < 4:\n",
    "        return\"\"\n",
    "    return str[-4]\n",
    "print(string_check(\"Nbnna\"))"
   ]
  },
  {
   "cell_type": "code",
   "execution_count": 43,
   "metadata": {},
   "outputs": [
    {
     "name": "stdout",
     "output_type": "stream",
     "text": [
      "NOt up\n"
     ]
    }
   ],
   "source": [
    "def string_last(str):\n",
    "    if len(str) < 6:\n",
    "        return \"NOt up\"\n",
    "    return str[-3]\n",
    "print(string_last(\"nabin\"))"
   ]
  },
  {
   "cell_type": "code",
   "execution_count": 46,
   "metadata": {},
   "outputs": [
    {
     "name": "stdout",
     "output_type": "stream",
     "text": [
      " understand up\n"
     ]
    }
   ],
   "source": [
    "def last_check(str):\n",
    "    if len(str) < 7:\n",
    "        return \" understand up\"\n",
    "    return str[-3]\n",
    "print(last_check(\"Strong\"))"
   ]
  },
  {
   "cell_type": "markdown",
   "metadata": {},
   "source": [
    "# 4.Write a python program to get a string from a given string where all occurrences of its first char have been changed to $ except the first char itself"
   ]
  },
  {
   "cell_type": "code",
   "execution_count": 2,
   "metadata": {},
   "outputs": [
    {
     "name": "stdout",
     "output_type": "stream",
     "text": [
      "resta$t\n"
     ]
    }
   ],
   "source": [
    "def change_char(str1):\n",
    "    char = str1[0]\n",
    "    str1 = str1.replace(char, \"$\")\n",
    "    str1 = char + str1[1:]\n",
    "    \n",
    "    return str1\n",
    "print (change_char(\"restart\"))"
   ]
  },
  {
   "cell_type": "code",
   "execution_count": 11,
   "metadata": {},
   "outputs": [
    {
     "name": "stdout",
     "output_type": "stream",
     "text": [
      "N@##@abeen\n"
     ]
    }
   ],
   "source": [
    "def change_char(nabin):\n",
    "    nabina = nabin[0]\n",
    "    nabin = nabin.replace(nabina,\"#@##@\")\n",
    "    nabin = nabina + nabin[1:]\n",
    "    \n",
    "    return nabin\n",
    "\n",
    "print(change_char(\"Nabeen\"))"
   ]
  },
  {
   "cell_type": "code",
   "execution_count": 13,
   "metadata": {},
   "outputs": [
    {
     "name": "stdout",
     "output_type": "stream",
     "text": [
      "vMOMOiiin\n"
     ]
    }
   ],
   "source": [
    "def chan_ge(nbn):\n",
    "    nib = nbn[2]\n",
    "    nbn = nbn.replace(nib,\"MOMO\")\n",
    "    nbn = nib + nbn[2:]\n",
    "    \n",
    "    return nbn\n",
    "\n",
    "print(chan_ge(\"Naviiin\"))"
   ]
  },
  {
   "cell_type": "code",
   "execution_count": 19,
   "metadata": {},
   "outputs": [
    {
     "name": "stdout",
     "output_type": "stream",
     "text": [
      "iNab MY LOVE MY LOVE MY LOVEn\n"
     ]
    }
   ],
   "source": [
    "def replace_formula(nabina):\n",
    "    nabin = nabina[-3]\n",
    "    nabina = nabina.replace(nabin,\" MY LOVE\")\n",
    "    nabina =nabin + nabina[0:]\n",
    "    \n",
    "    return nabina\n",
    "\n",
    "print(replace_formula(\"Nabiiin\"))"
   ]
  },
  {
   "cell_type": "code",
   "execution_count": 27,
   "metadata": {},
   "outputs": [
    {
     "name": "stdout",
     "output_type": "stream",
     "text": [
      "b nana ina\n"
     ]
    }
   ],
   "source": [
    "def ref_pla(nabin):\n",
    "    nabi = nabin[2]\n",
    "    nabin = nabin.replace(nabi,\" nana \")\n",
    "    nabin = nabi + nabin[2:]\n",
    "    \n",
    "    return nabin\n",
    "\n",
    "print(ref_pla(\"dabina\"))"
   ]
  },
  {
   "cell_type": "code",
   "execution_count": 35,
   "metadata": {},
   "outputs": [
    {
     "name": "stdout",
     "output_type": "stream",
     "text": [
      "My love abiMy love \n"
     ]
    }
   ],
   "source": [
    "def l_a(n):\n",
    "    a = n[-1]\n",
    "    n =n.replace(a,\"My love \")\n",
    "    n = n + a[1:]\n",
    "    \n",
    "    return n\n",
    "\n",
    "print(l_a(\"nabin\"))"
   ]
  },
  {
   "cell_type": "markdown",
   "metadata": {},
   "source": [
    "# 5. Write a Python to get a single string from two given strings, separated by a space and swap the first two characters of each string."
   ]
  },
  {
   "cell_type": "code",
   "execution_count": 37,
   "metadata": {},
   "outputs": [
    {
     "name": "stdout",
     "output_type": "stream",
     "text": [
      "Jabina  napan\n"
     ]
    }
   ],
   "source": [
    "def char_mix_up(a,b):\n",
    "    new_a =b[:2] + a[2:]\n",
    "    new_b =a[:2] + b[2:]\n",
    "    \n",
    "    return new_a + \"  \" + new_b\n",
    "\n",
    "print(char_mix_up(\"nabina\",\"Japan\"))"
   ]
  },
  {
   "cell_type": "code",
   "execution_count": 39,
   "metadata": {},
   "outputs": [
    {
     "name": "stdout",
     "output_type": "stream",
     "text": [
      "nja aNabi\n"
     ]
    }
   ],
   "source": [
    "def string_swap(x,y):\n",
    "    x = y[-1] + x[:2]\n",
    "    y = x[-1] + y[:-1]\n",
    "    \n",
    "    return x + \" \" + y\n",
    "\n",
    "print(string_swap(\"japan\",\"Nabin\"))"
   ]
  },
  {
   "cell_type": "code",
   "execution_count": 40,
   "metadata": {},
   "outputs": [
    {
     "name": "stdout",
     "output_type": "stream",
     "text": [
      "SwaSt  SwSwa\n"
     ]
    }
   ],
   "source": [
    "def string_swap(x,y):\n",
    "    x = y[:3] + x[:2]\n",
    "    y = x[:2] + y[:3]\n",
    "    \n",
    "    return x + \"  \" + y\n",
    "print(string_swap(\"String\",\"Swap\"))"
   ]
  },
  {
   "cell_type": "code",
   "execution_count": 93,
   "metadata": {},
   "outputs": [
    {
     "name": "stdout",
     "output_type": "stream",
     "text": [
      "SwapNabSwapNaSwapNabSwapNaSwapNabSwapNaSwapNabSwapNaSwapNabSwapNaSwapNabSwapNaSwapNabSwapNaSwapNabSwapNaSwapNabSwapNaSwapNabSwapNaSwapNabSwapNaSwapNabSwapNaSwapNabSwapNaSwapNabSwapNaSwapNabSwapNaSwapNabSwapNaSwapNabSwapNaSwapNabSwapNaSwapNabSwapNaSwapNabSwapNaSwapNabSwapNaSwapNabSwapNaSwapNabSwapNaSwapNabSwapNaSwapNabSwapNaSwapNabSwapNaSwapNabSwapNaSwapNabSwapNaSwapNabSwapNaSwapNabSwapNa I Love YOU SwapNabSwapNab\n"
     ]
    }
   ],
   "source": [
    "def string_swap(test,check):\n",
    "    test = check[:-2] *2\n",
    "    check = test[:-1] *30\n",
    "    \n",
    "    return check + \" I Love YOU \" + test\n",
    "\n",
    "print(string_swap(\"String \",\"SwapNabin\"))"
   ]
  },
  {
   "cell_type": "code",
   "execution_count": 97,
   "metadata": {},
   "outputs": [
    {
     "name": "stdout",
     "output_type": "stream",
     "text": [
      "NaNaNa LOLOLO I Love You NaNaNa LOLONaNaNa LOLONaNaNa LOLONaNaNa LOLO\n"
     ]
    }
   ],
   "source": [
    "def string_swap(check,line):\n",
    "    check = line[:-3] *3 +\" LOLOLO\"\n",
    "    line = check[:-2] *4\n",
    "    \n",
    "    return check + \" I Love You \" + line\n",
    "\n",
    "print(string_swap(\"Nabina\", \"Nabin\"))"
   ]
  },
  {
   "cell_type": "markdown",
   "metadata": {},
   "source": [
    "# 6 Write a Python program to add \"ing\" at the end of a given string (length should be at least 3). if the given string already ends with \"ing\" then add \"ly\" instead. If the string length of the given string is less then 3, leave it unchanged."
   ]
  },
  {
   "cell_type": "code",
   "execution_count": 3,
   "metadata": {},
   "outputs": [
    {
     "name": "stdout",
     "output_type": "stream",
     "text": [
      "ab\n",
      "abcing\n",
      "stringly\n"
     ]
    }
   ],
   "source": [
    "def add_string(str1):\n",
    "  length = len(str1)\n",
    "\n",
    "  if length > 2:\n",
    "    if str1[-3:] == 'ing':\n",
    "      str1 += 'ly'\n",
    "    else:\n",
    "      str1 += 'ing'\n",
    "\n",
    "  return str1\n",
    "print(add_string('ab'))\n",
    "print(add_string('abc'))\n",
    "print(add_string('string'))\n"
   ]
  },
  {
   "cell_type": "code",
   "execution_count": 11,
   "metadata": {},
   "outputs": [
    {
     "name": "stdout",
     "output_type": "stream",
     "text": [
      "nabinabin\n",
      "binabin\n",
      "ia\n"
     ]
    }
   ],
   "source": [
    "def string_length_changed(x):\n",
    "    y = len(x)\n",
    "    \n",
    "    if y > 2:\n",
    "        if x[-3:]  == \"bin\":\n",
    "            x += \"Ina\"\n",
    "        else:\n",
    "            x += \"bin\"\n",
    "            \n",
    "    return x\n",
    "print(string_length_changed(\"nabina\"))\n",
    "print(string_length_changed(\"bina\"))\n",
    "print(string_length_changed(\"ia\"))"
   ]
  },
  {
   "cell_type": "code",
   "execution_count": 15,
   "metadata": {},
   "outputs": [
    {
     "name": "stdout",
     "output_type": "stream",
     "text": [
      "NaNabinaNaNa\n",
      "NaNaNaNa\n"
     ]
    }
   ],
   "source": [
    "def n_change(x):\n",
    "    y = len(x)\n",
    "    \n",
    "    if y > 3:\n",
    "        if x [-3] == \"NaNa\":\n",
    "            x += \"Ina\"\n",
    "            \n",
    "        else:\n",
    "            x += \"NaNa\"\n",
    "            \n",
    "    return x\n",
    "print(n_change(\"NaNabina\"))\n",
    "print(n_change(\"NaNa\"))"
   ]
  },
  {
   "cell_type": "code",
   "execution_count": 22,
   "metadata": {},
   "outputs": [
    {
     "name": "stdout",
     "output_type": "stream",
     "text": [
      "NabaaaNabin\n"
     ]
    }
   ],
   "source": [
    "def nabina_change_nabin(nabina):\n",
    "    y = len(nabina)\n",
    "    \n",
    "    if y > 3:\n",
    "        if nabina [-2] == \"Nabin\":\n",
    "            nabina += \"bina\"\n",
    "        else:\n",
    "            nabina += \"Nabin\"\n",
    "            \n",
    "    return nabina\n",
    "print(nabina_change_nabin(\"Nabaaa\"))        "
   ]
  },
  {
   "cell_type": "code",
   "execution_count": 25,
   "metadata": {},
   "outputs": [
    {
     "name": "stdout",
     "output_type": "stream",
     "text": [
      "IYNTNabinaIYNT\n"
     ]
    }
   ],
   "source": [
    "def  string_replace(aa):\n",
    "    bb = len(aa)\n",
    "    \n",
    "    if bb > 4:\n",
    "        if aa [-1]  == \"ITNT\":\n",
    "            aa += \"NUNU\"\n",
    "            \n",
    "        else:\n",
    "            \n",
    "            aa += \"IYNT\"\n",
    "            \n",
    "    return aa\n",
    "print(string_replace(\"IYNTNabina\")) "
   ]
  }
 ],
 "metadata": {
  "kernelspec": {
   "display_name": "Python 3",
   "language": "python",
   "name": "python3"
  },
  "language_info": {
   "codemirror_mode": {
    "name": "ipython",
    "version": 3
   },
   "file_extension": ".py",
   "mimetype": "text/x-python",
   "name": "python",
   "nbconvert_exporter": "python",
   "pygments_lexer": "ipython3",
   "version": "3.8.5"
  }
 },
 "nbformat": 4,
 "nbformat_minor": 4
}
