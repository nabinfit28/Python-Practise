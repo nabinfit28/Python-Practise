{
 "cells": [
  {
   "cell_type": "code",
   "execution_count": 1,
   "metadata": {},
   "outputs": [
    {
     "name": "stdout",
     "output_type": "stream",
     "text": [
      "x5\n",
      "120\n"
     ]
    }
   ],
   "source": [
    "num=int(input(\"x\"))\n",
    "fact=1\n",
    "for i in range(num,0,-1):\n",
    "    fact=fact*i\n",
    "print(fact)"
   ]
  },
  {
   "cell_type": "code",
   "execution_count": 2,
   "metadata": {},
   "outputs": [
    {
     "name": "stdout",
     "output_type": "stream",
     "text": [
      "x5\n",
      "120\n"
     ]
    }
   ],
   "source": [
    "num=int(input(\"x\"))\n",
    "fact=1\n",
    "for i in range(1,num+1):\n",
    "    fact=fact*i\n",
    "print(fact)"
   ]
  },
  {
   "cell_type": "code",
   "execution_count": 3,
   "metadata": {},
   "outputs": [
    {
     "name": "stdout",
     "output_type": "stream",
     "text": [
      "x5\n",
      "24\n"
     ]
    }
   ],
   "source": [
    "num=int(input(\"x\"))\n",
    "fact=1\n",
    "for i in range(1,num):\n",
    "    fact=fact*i\n",
    "print(fact)"
   ]
  },
  {
   "cell_type": "code",
   "execution_count": 7,
   "metadata": {},
   "outputs": [
    {
     "name": "stdout",
     "output_type": "stream",
     "text": [
      "x5\n",
      "y10\n",
      "45\n"
     ]
    }
   ],
   "source": [
    "list1=int(input(\"x\"))\n",
    "list2=int(input(\"y\"))\n",
    "sum=0\n",
    "for i in range (list1,list2+1):\n",
    "    sum=sum+i\n",
    "print(sum)"
   ]
  },
  {
   "cell_type": "code",
   "execution_count": null,
   "metadata": {},
   "outputs": [],
   "source": [
    "num=int(input(\"x\"))\n",
    "if num%2 =0:\n",
    "    print(\"composit number\")\n",
    "for i in range(num,1,)"
   ]
  },
  {
   "cell_type": "code",
   "execution_count": 9,
   "metadata": {},
   "outputs": [
    {
     "name": "stdout",
     "output_type": "stream",
     "text": [
      "a5\n",
      "y9\n",
      "35\n"
     ]
    }
   ],
   "source": [
    "roll1=int(input(\"a\"))\n",
    "roll2=int(input(\"y\"))\n",
    "sum=0\n",
    "for i in range(roll1,roll2+1):  #if first given number 5  +6+7+8+and Roll2+1 is stop point that is 9 so that total sum is  35\n",
    "    sum=sum+i\n",
    "print(sum)"
   ]
  },
  {
   "cell_type": "code",
   "execution_count": 22,
   "metadata": {},
   "outputs": [
    {
     "name": "stdout",
     "output_type": "stream",
     "text": [
      "enter any number here 7\n",
      "7 prime number\n"
     ]
    }
   ],
   "source": [
    "num=int(input(\"enter any number here \"))\n",
    "if num > 1:\n",
    "    for i in range(2,num):\n",
    "        if (num % i) == 0:\n",
    "            print(num,\"composit no.\")\n",
    "            break\n",
    "    else:\n",
    "        print(num,\"prime number\")\n",
    "elif  num == 0 or 1:\n",
    "    print(num,\"is a neither prime nor composite number \")\n",
    "else:\n",
    "    print(num,\"composit number\")"
   ]
  },
  {
   "cell_type": "code",
   "execution_count": 24,
   "metadata": {},
   "outputs": [
    {
     "name": "stdout",
     "output_type": "stream",
     "text": [
      "enter any number here 1\n",
      "1 composit number\n"
     ]
    }
   ],
   "source": [
    "num=int(input(\"enter any number here \"))\n",
    "if num > 1:\n",
    "    for i in range(2,num):\n",
    "        if (num % i) == 0:\n",
    "            print(num,\"composit no.\")\n",
    "            break\n",
    "    else:\n",
    "        print(num,\"prime number\")\n",
    "\n",
    "else:\n",
    "    print(num,\"composit number\")"
   ]
  },
  {
   "cell_type": "code",
   "execution_count": 29,
   "metadata": {},
   "outputs": [
    {
     "name": "stdout",
     "output_type": "stream",
     "text": [
      "please number here7\n",
      "7 is a prime number\n"
     ]
    }
   ],
   "source": [
    "num=int(input(\"please number here\"))\n",
    "flag = 0\n",
    "if num > 1 :\n",
    "          for i in range(2,num):\n",
    "            if(num % i) == 0:\n",
    "                flag = flag+1\n",
    "if flag == 0:\n",
    "    print(num,\"is a prime number\")\n",
    "else:\n",
    "    print(\"not a prime number\")"
   ]
  },
  {
   "cell_type": "code",
   "execution_count": 38,
   "metadata": {},
   "outputs": [
    {
     "name": "stdout",
     "output_type": "stream",
     "text": [
      "your number6\n",
      "not a prime number\n"
     ]
    }
   ],
   "source": [
    "num=int(input(\"your number\"))\n",
    "x = 0\n",
    "if num > 1 :\n",
    "    for i in range(2,num):\n",
    "        if(num % i) == 0:\n",
    "            x = x+1\n",
    "if x == 0:\n",
    "    print(num,\"is a prime number\")\n",
    "else:\n",
    "    print(\"not a prime number\")"
   ]
  },
  {
   "cell_type": "code",
   "execution_count": null,
   "metadata": {},
   "outputs": [],
   "source": []
  }
 ],
 "metadata": {
  "kernelspec": {
   "display_name": "Python 3",
   "language": "python",
   "name": "python3"
  },
  "language_info": {
   "codemirror_mode": {
    "name": "ipython",
    "version": 3
   },
   "file_extension": ".py",
   "mimetype": "text/x-python",
   "name": "python",
   "nbconvert_exporter": "python",
   "pygments_lexer": "ipython3",
   "version": "3.8.5"
  }
 },
 "nbformat": 4,
 "nbformat_minor": 4
}
